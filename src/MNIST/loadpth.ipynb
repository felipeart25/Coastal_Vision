{
 "cells": [
  {
   "cell_type": "code",
   "execution_count": 5,
   "metadata": {},
   "outputs": [
    {
     "name": "stderr",
     "output_type": "stream",
     "text": [
      "\u001b[34m\u001b[1mwandb\u001b[0m: \u001b[33mWARNING\u001b[0m Calling wandb.login() after wandb.init() has no effect.\n",
      "\u001b[34m\u001b[1mwandb\u001b[0m:   1 of 1 files downloaded.  \n"
     ]
    },
    {
     "name": "stdout",
     "output_type": "stream",
     "text": [
      "Model config: {}\n"
     ]
    },
    {
     "ename": "KeyError",
     "evalue": "'input_dim'",
     "output_type": "error",
     "traceback": [
      "\u001b[31m---------------------------------------------------------------------------\u001b[39m",
      "\u001b[31mKeyError\u001b[39m                                  Traceback (most recent call last)",
      "\u001b[36mCell\u001b[39m\u001b[36m \u001b[39m\u001b[32mIn[5]\u001b[39m\u001b[32m, line 26\u001b[39m\n\u001b[32m     23\u001b[39m config = artifact.metadata  \u001b[38;5;66;03m# WandB automatically saves config metadata`\u001b[39;00m\n\u001b[32m     24\u001b[39m \u001b[38;5;28mprint\u001b[39m(\u001b[33m\"\u001b[39m\u001b[33mModel config:\u001b[39m\u001b[33m\"\u001b[39m, config)\n\u001b[32m     25\u001b[39m model = Predictor(\n\u001b[32m---> \u001b[39m\u001b[32m26\u001b[39m     input_dim=\u001b[43mconfig\u001b[49m\u001b[43m[\u001b[49m\u001b[33;43m\"\u001b[39;49m\u001b[33;43minput_dim\u001b[39;49m\u001b[33;43m\"\u001b[39;49m\u001b[43m]\u001b[49m,\n\u001b[32m     27\u001b[39m     hidden_dim=config[\u001b[33m\"\u001b[39m\u001b[33mhidden_dim\u001b[39m\u001b[33m\"\u001b[39m],\n\u001b[32m     28\u001b[39m     kernel_size=\u001b[38;5;28mtuple\u001b[39m(config[\u001b[33m\"\u001b[39m\u001b[33mkernel_size\u001b[39m\u001b[33m\"\u001b[39m]),\n\u001b[32m     29\u001b[39m     num_layers=config[\u001b[33m\"\u001b[39m\u001b[33mnum_layers\u001b[39m\u001b[33m\"\u001b[39m]\n\u001b[32m     30\u001b[39m )\n\u001b[32m     31\u001b[39m model.load_state_dict(torch.load(model_path))\n\u001b[32m     32\u001b[39m model.eval()\n",
      "\u001b[31mKeyError\u001b[39m: 'input_dim'"
     ]
    }
   ],
   "source": [
    "import wandb\n",
    "import torch\n",
    "from ConvLSTM_v2 import Predictor  # Replace with your actual model class\n",
    "\n",
    "# Initialize WandB (no need to log a new run)\n",
    "wandb.login(key=\"d42992a374fbc96ee65d1955f037e71d58e30f45\")\n",
    "\n",
    "# Specify the WandB run path and artifact name\n",
    "#ENTITY = \"Arteaga-daniel25\"  # Usually your username or team name\n",
    "PROJECT = \"convlstm-mnist\"\n",
    "RUN_ID = \"run-706ox4ak\"  # Replace with your actual run ID\n",
    "ARTIFACT_NAME = \"Conv-LSTM:latest\"  # Name from wandb.log_artifact\n",
    "\n",
    "# Fetch the artifact (model checkpoint)\n",
    "api = wandb.Api()\n",
    "artifact = api.artifact(f\"{PROJECT}/{ARTIFACT_NAME}\")\n",
    "artifact_dir = artifact.download()  # Downloads to ./artifacts/Conv-LSTM:latest/\n",
    "\n",
    "# Load model weights\n",
    "model_path = f\"{artifact_dir}/convlstm_mnist.pth\"  # Adjust filename if needed\n",
    "\n",
    "# Reconstruct the model architecture using original config\n",
    "config = artifact.metadata  # WandB automatically saves config metadata`\n",
    "print(\"Model config:\", config)\n",
    "model = Predictor(\n",
    "    input_dim=config[\"input_dim\"],\n",
    "    hidden_dim=config[\"hidden_dim\"],\n",
    "    kernel_size=tuple(config[\"kernel_size\"]),\n",
    "    num_layers=config[\"num_layers\"]\n",
    ")\n",
    "model.load_state_dict(torch.load(model_path))\n",
    "model.eval()\n",
    "\n",
    "print(\"Model loaded successfully!\")"
   ]
  }
 ],
 "metadata": {
  "kernelspec": {
   "display_name": "venv",
   "language": "python",
   "name": "python3"
  },
  "language_info": {
   "codemirror_mode": {
    "name": "ipython",
    "version": 3
   },
   "file_extension": ".py",
   "mimetype": "text/x-python",
   "name": "python",
   "nbconvert_exporter": "python",
   "pygments_lexer": "ipython3",
   "version": "3.11.11"
  }
 },
 "nbformat": 4,
 "nbformat_minor": 2
}
