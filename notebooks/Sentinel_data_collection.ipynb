{
 "cells": [
  {
   "cell_type": "code",
   "execution_count": 50,
   "metadata": {},
   "outputs": [
    {
     "data": {
      "text/html": [
       "\n",
       "            <style>\n",
       "                .geemap-dark {\n",
       "                    --jp-widgets-color: white;\n",
       "                    --jp-widgets-label-color: white;\n",
       "                    --jp-ui-font-color1: white;\n",
       "                    --jp-layout-color2: #454545;\n",
       "                    background-color: #383838;\n",
       "                }\n",
       "\n",
       "                .geemap-dark .jupyter-button {\n",
       "                    --jp-layout-color3: #383838;\n",
       "                }\n",
       "\n",
       "                .geemap-colab {\n",
       "                    background-color: var(--colab-primary-surface-color, white);\n",
       "                }\n",
       "\n",
       "                .geemap-colab .jupyter-button {\n",
       "                    --jp-layout-color3: var(--colab-primary-surface-color, white);\n",
       "                }\n",
       "            </style>\n",
       "            "
      ],
      "text/plain": [
       "<IPython.core.display.HTML object>"
      ]
     },
     "metadata": {},
     "output_type": "display_data"
    }
   ],
   "source": [
    "#Connect to GGE API\n",
    "\n",
    "import ee\n",
    "import geemap.core as geemap\n",
    "import datetime\n",
    "import os\n",
    "\n",
    "ee.Initialize(project='ee-sand-engine')"
   ]
  },
  {
   "cell_type": "code",
   "execution_count": 51,
   "metadata": {},
   "outputs": [
    {
     "data": {
      "text/html": [
       "\n",
       "            <style>\n",
       "                .geemap-dark {\n",
       "                    --jp-widgets-color: white;\n",
       "                    --jp-widgets-label-color: white;\n",
       "                    --jp-ui-font-color1: white;\n",
       "                    --jp-layout-color2: #454545;\n",
       "                    background-color: #383838;\n",
       "                }\n",
       "\n",
       "                .geemap-dark .jupyter-button {\n",
       "                    --jp-layout-color3: #383838;\n",
       "                }\n",
       "\n",
       "                .geemap-colab {\n",
       "                    background-color: var(--colab-primary-surface-color, white);\n",
       "                }\n",
       "\n",
       "                .geemap-colab .jupyter-button {\n",
       "                    --jp-layout-color3: var(--colab-primary-surface-color, white);\n",
       "                }\n",
       "            </style>\n",
       "            "
      ],
      "text/plain": [
       "<IPython.core.display.HTML object>"
      ]
     },
     "metadata": {},
     "output_type": "display_data"
    }
   ],
   "source": [
    "start_date = '2011-01-01'\n",
    "end_date = '2024-12-31'\n",
    "\n",
    "geometry = ee.Geometry.Polygon([[\n",
    "    [4.161971, 52.026261],\n",
    "    [4.229327, 52.075821],\n",
    "    [4.198982, 52.091474],\n",
    "    [4.131249, 52.041400],\n",
    "    [4.161971, 52.026261]\n",
    "]])\n",
    "\n",
    "collection_name = \"COPERNICUS/S2_SR_HARMONIZED\"\n",
    "bands = ['B3', 'B2', 'B1']\n",
    "\n",
    "# Define cloud and cover filter\n",
    "cloud_cover_max = 100  # Maximum cloud cover percentage\n",
    "coverage_threshold = 0.9  # Minimum coverage as a fraction (e.g., 0.8 = 80%)\n"
   ]
  },
  {
   "cell_type": "code",
   "execution_count": 52,
   "metadata": {},
   "outputs": [
    {
     "data": {
      "text/html": [
       "\n",
       "            <style>\n",
       "                .geemap-dark {\n",
       "                    --jp-widgets-color: white;\n",
       "                    --jp-widgets-label-color: white;\n",
       "                    --jp-ui-font-color1: white;\n",
       "                    --jp-layout-color2: #454545;\n",
       "                    background-color: #383838;\n",
       "                }\n",
       "\n",
       "                .geemap-dark .jupyter-button {\n",
       "                    --jp-layout-color3: #383838;\n",
       "                }\n",
       "\n",
       "                .geemap-colab {\n",
       "                    background-color: var(--colab-primary-surface-color, white);\n",
       "                }\n",
       "\n",
       "                .geemap-colab .jupyter-button {\n",
       "                    --jp-layout-color3: var(--colab-primary-surface-color, white);\n",
       "                }\n",
       "            </style>\n",
       "            "
      ],
      "text/plain": [
       "<IPython.core.display.HTML object>"
      ]
     },
     "metadata": {},
     "output_type": "display_data"
    },
    {
     "name": "stdout",
     "output_type": "stream",
     "text": [
      "Number of images: 523\n",
      "Average time interval between images: 4.908045977011494 days\n",
      "Coverage of first image: 91.70%\n"
     ]
    },
    {
     "data": {
      "application/vnd.jupyter.widget-view+json": {
       "model_id": "89dd3c7e49b74835a0d03c91e63f863d",
       "version_major": 2,
       "version_minor": 0
      },
      "text/plain": [
       "Map(center=[52.05877845186358, 4.180376309936336], controls=(ZoomControl(options=['position', 'zoom_in_text', …"
      ]
     },
     "execution_count": 52,
     "metadata": {},
     "output_type": "execute_result"
    }
   ],
   "source": [
    "# Calculate the ROI area in square meters\n",
    "roi_area = geometry.area().getInfo()\n",
    "# Function to calculate coverage\n",
    "def calculate_coverage(image):\n",
    "    # Create a binary mask of valid pixels (1 where there's data, 0 where there's no data)\n",
    "    valid_pixels = image.select(bands[0]).mask()\n",
    "    \n",
    "    # Calculate the area of valid pixels\n",
    "    valid_area = valid_pixels.reduceRegion(\n",
    "        reducer=ee.Reducer.sum(),\n",
    "        geometry=geometry,\n",
    "        scale=10,  # Sentinel-2 resolution\n",
    "        maxPixels=1e13\n",
    "    ).get(bands[0])\n",
    "    \n",
    "    # Calculate coverage as valid area divided by total area\n",
    "    coverage = ee.Number(valid_area).multiply(100).divide(roi_area)\n",
    "    return image.set('coverage', coverage)\n",
    "\n",
    "collection = (ee.ImageCollection(collection_name)\n",
    "              .filterDate(start_date, end_date)\n",
    "              .filterBounds(geometry)\n",
    "              .filterMetadata('CLOUDY_PIXEL_PERCENTAGE', 'less_than', cloud_cover_max)\n",
    "              .map(calculate_coverage)\n",
    "              .filter(ee.Filter.gte('coverage', coverage_threshold))\n",
    "              #.select(bands)\n",
    "              .map(lambda img: img.clip(geometry))\n",
    "              \n",
    "              )\n",
    "              \n",
    "\n",
    "# # Get statistics\n",
    "image_count = collection.size().getInfo()\n",
    "dates = collection.aggregate_array('system:time_start').getInfo()\n",
    "dates = [datetime.datetime.utcfromtimestamp(d / 1000) for d in dates]\n",
    "time_intervals = [(dates[i] - dates[i-1]).days for i in range(1, len(dates))]\n",
    "average_interval = sum(time_intervals) / len(time_intervals) if time_intervals else 0\n",
    "\n",
    "# # Print statistics\n",
    "print(f'Number of images: {image_count}')\n",
    "print(f'Average time interval between images: {average_interval} days')\n",
    "\n",
    "# Check coverage for the first image\n",
    "first_image = collection.first()\n",
    "coverage = first_image.get('coverage').getInfo()\n",
    "print(f'Coverage of first image: {coverage * 100:.2f}%')\n",
    "\n",
    "\n",
    "# Visualize using geemap\n",
    "Map = geemap.Map()\n",
    "Map.addLayer(first_image, {'bands': ['B3', 'B2', 'B1'], 'min': 0, 'max': 3000}, \"First Image\")\n",
    "Map.addLayer(geometry, {}, \"ROI\")\n",
    "Map.centerObject(geometry, 12)\n",
    "Map"
   ]
  },
  {
   "cell_type": "code",
   "execution_count": 54,
   "metadata": {},
   "outputs": [
    {
     "data": {
      "text/html": [
       "\n",
       "            <style>\n",
       "                .geemap-dark {\n",
       "                    --jp-widgets-color: white;\n",
       "                    --jp-widgets-label-color: white;\n",
       "                    --jp-ui-font-color1: white;\n",
       "                    --jp-layout-color2: #454545;\n",
       "                    background-color: #383838;\n",
       "                }\n",
       "\n",
       "                .geemap-dark .jupyter-button {\n",
       "                    --jp-layout-color3: #383838;\n",
       "                }\n",
       "\n",
       "                .geemap-colab {\n",
       "                    background-color: var(--colab-primary-surface-color, white);\n",
       "                }\n",
       "\n",
       "                .geemap-colab .jupyter-button {\n",
       "                    --jp-layout-color3: var(--colab-primary-surface-color, white);\n",
       "                }\n",
       "            </style>\n",
       "            "
      ],
      "text/plain": [
       "<IPython.core.display.HTML object>"
      ]
     },
     "metadata": {},
     "output_type": "display_data"
    },
    {
     "name": "stdout",
     "output_type": "stream",
     "text": [
      "\n",
      "Time Series Statistics:\n",
      "Total images: 31.0\n",
      "Maximum images in one month: 6.0\n",
      "Average images per month: 0.84\n",
      "Number of months with no images: 26\n",
      "\n",
      "Time Series Statistics:\n",
      "Total number of images: 523\n",
      "Time period: 2017-03 to 2024-12\n",
      "Maximum images in one month: 9\n",
      "Average images per month: 5.56\n"
     ]
    },
    {
     "data": {
      "image/png": "[encoded data removed]",
      "text/plain": [
       "<Figure size 1200x600 with 1 Axes>"
      ]
     },
     "metadata": {},
     "output_type": "display_data"
    }
   ],
   "source": [
    "import pandas as pd\n",
    "from datetime import datetime\n",
    "\n",
    "def prepare_gee_timeseries(dates):\n",
    "    \"\"\"\n",
    "    Prepare GEE collection dates for time series visualization\n",
    "    \n",
    "    Parameters:\n",
    "    dates: list of datetime objects from GEE collection\n",
    "    \n",
    "    Returns:\n",
    "    dict: Processed data ready for visualization\n",
    "    \"\"\"\n",
    "    # Convert to pandas datetime\n",
    "    df = pd.DataFrame({'date': dates})\n",
    "    \n",
    "    # Create month-year string for grouping\n",
    "    df['month_year'] = df['date'].dt.strftime('%Y-%m')\n",
    "    \n",
    "    # Ensure all months are included (even those with 0 images)\n",
    "    date_range = pd.date_range(start='2015-01-01', end='2018-01-01', freq='MS')\n",
    "    all_months = pd.DataFrame({'month_year': date_range.strftime('%Y-%m')})\n",
    "    \n",
    "    # Count images per month\n",
    "    monthly_counts = df['month_year'].value_counts().reset_index()\n",
    "    monthly_counts.columns = ['month_year', 'count']\n",
    "    \n",
    "    # Merge with all months to include zeros\n",
    "    complete_counts = all_months.merge(monthly_counts, on='month_year', how='left')\n",
    "    complete_counts['count'] = complete_counts['count'].fillna(0)\n",
    "    \n",
    "    # Sort by date\n",
    "    complete_counts = complete_counts.sort_values('month_year')\n",
    "    \n",
    "    # Print summary statistics\n",
    "    print(\"\\nTime Series Statistics:\")\n",
    "    print(f\"Total images: {complete_counts['count'].sum()}\")\n",
    "    print(f\"Maximum images in one month: {complete_counts['count'].max()}\")\n",
    "    print(f\"Average images per month: {complete_counts['count'].mean():.2f}\")\n",
    "    print(f\"Number of months with no images: {(complete_counts['count'] == 0).sum()}\")\n",
    "    \n",
    "    return {\n",
    "        'dates': complete_counts['month_year'].tolist(),\n",
    "        'counts': complete_counts['count'].tolist()\n",
    "    }\n",
    "\n",
    "# Process your GEE dates\n",
    "timeseries_data = prepare_gee_timeseries(dates)\n",
    "\n",
    "import pandas as pd\n",
    "import matplotlib.pyplot as plt\n",
    "import seaborn as sns\n",
    "from datetime import datetime\n",
    "\n",
    "def plot_image_timeseries(dates):\n",
    "    \"\"\"\n",
    "    Create a time series plot of satellite image acquisitions\n",
    "    \n",
    "    Parameters:\n",
    "    dates: list of datetime objects from GEE collection\n",
    "    \"\"\"\n",
    "    # Convert dates to pandas DataFrame\n",
    "    df = pd.DataFrame({'date': dates})\n",
    "    \n",
    "    # Create month-year for grouping\n",
    "    df['month_year'] = pd.to_datetime(df['date']).dt.to_period('M')\n",
    "    \n",
    "    # Count images per month\n",
    "    monthly_counts = df.groupby('month_year').size().reset_index(name='count')\n",
    "    monthly_counts['month_year'] = monthly_counts['month_year'].astype(str)\n",
    "    \n",
    "    # Create the plot\n",
    "    plt.figure(figsize=(12, 6))\n",
    "    sns.set_style(\"whitegrid\")\n",
    "    \n",
    "    # Plot the line\n",
    "    plt.plot(range(len(monthly_counts)), monthly_counts['count'], \n",
    "             marker='o', linestyle='-', linewidth=2, markersize=6,\n",
    "             color='#2563eb')\n",
    "    \n",
    "    # Customize the plot\n",
    "    plt.title('Temporal Distribution of Sentinel-2 Images (2015-2018)', \n",
    "             fontsize=12, pad=20)\n",
    "    plt.xlabel('Date', fontsize=10)\n",
    "    plt.ylabel('Number of Images', fontsize=10)\n",
    "    \n",
    "    # Set x-axis ticks and labels\n",
    "    plt.xticks(range(len(monthly_counts)), \n",
    "               monthly_counts['month_year'],\n",
    "               rotation=45,\n",
    "               ha='right')\n",
    "    \n",
    "    # Add grid\n",
    "    plt.grid(True, alpha=0.3)\n",
    "    \n",
    "    # Adjust layout\n",
    "    plt.tight_layout()\n",
    "    \n",
    "    # Print statistics\n",
    "    print(\"\\nTime Series Statistics:\")\n",
    "    print(f\"Total number of images: {len(dates)}\")\n",
    "    print(f\"Time period: {min(dates).strftime('%Y-%m')} to {max(dates).strftime('%Y-%m')}\")\n",
    "    print(f\"Maximum images in one month: {monthly_counts['count'].max()}\")\n",
    "    print(f\"Average images per month: {monthly_counts['count'].mean():.2f}\")\n",
    "    \n",
    "    return plt\n",
    "\n",
    "# Create and show the plot\n",
    "plot = plot_image_timeseries(dates)\n",
    "plt.show()"
   ]
  },
  {
   "cell_type": "markdown",
   "metadata": {},
   "source": []
  },
  {
   "cell_type": "code",
   "execution_count": 34,
   "metadata": {},
   "outputs": [
    {
     "data": {
      "text/html": [
       "\n",
       "            <style>\n",
       "                .geemap-dark {\n",
       "                    --jp-widgets-color: white;\n",
       "                    --jp-widgets-label-color: white;\n",
       "                    --jp-ui-font-color1: white;\n",
       "                    --jp-layout-color2: #454545;\n",
       "                    background-color: #383838;\n",
       "                }\n",
       "\n",
       "                .geemap-dark .jupyter-button {\n",
       "                    --jp-layout-color3: #383838;\n",
       "                }\n",
       "\n",
       "                .geemap-colab {\n",
       "                    background-color: var(--colab-primary-surface-color, white);\n",
       "                }\n",
       "\n",
       "                .geemap-colab .jupyter-button {\n",
       "                    --jp-layout-color3: var(--colab-primary-surface-color, white);\n",
       "                }\n",
       "            </style>\n",
       "            "
      ],
      "text/plain": [
       "<IPython.core.display.HTML object>"
      ]
     },
     "metadata": {},
     "output_type": "display_data"
    },
    {
     "name": "stdout",
     "output_type": "stream",
     "text": [
      "Number of images: 13\n",
      "Average time interval between images: 21.333333333333332 days\n"
     ]
    },
    {
     "data": {
      "application/vnd.jupyter.widget-view+json": {
       "model_id": "3908c608d70849a996ef363d3921a50f",
       "version_major": 2,
       "version_minor": 0
      },
      "text/plain": [
       "Map(center=[52.05877845186358, 4.180376309936336], controls=(WidgetControl(options=['position', 'transparent_b…"
      ]
     },
     "execution_count": 34,
     "metadata": {},
     "output_type": "execute_result"
    }
   ],
   "source": [
    "\n",
    "# Load Cloud Probability dataset\n",
    "clouds = ee.ImageCollection(\"COPERNICUS/S2_CLOUD_PROBABILITY\") \\\n",
    "    .filterBounds(geometry) \\\n",
    "    .filterDate(start_date, end_date) \\\n",
    "    .map(lambda img: img.clip(geometry))\n",
    "\n",
    "# Function to apply cloud masking\n",
    "def apply_cloud_mask(img):\n",
    "    cloud_prob = clouds.filter(ee.Filter.eq('system:index', img.get('system:index'))).first()\n",
    "    mask = cloud_prob.lt(cloud_cover_max)  # Threshold for cloud probability (adjust as needed)\n",
    "    return img.updateMask(mask).copyProperties(img, img.propertyNames())\n",
    "\n",
    "# Apply cloud masking to Sentinel-2 collection\n",
    "cloud_masked_collection = collection.map(apply_cloud_mask)\n",
    "\n",
    "# # Get statistics\n",
    "image_count = cloud_masked_collection.size().getInfo()\n",
    "dates = cloud_masked_collection.aggregate_array('system:time_start').getInfo()\n",
    "dates = [datetime.datetime.utcfromtimestamp(d / 1000) for d in dates]\n",
    "time_intervals = [(dates[i] - dates[i-1]).days for i in range(1, len(dates))]\n",
    "average_interval = sum(time_intervals) / len(time_intervals) if time_intervals else 0\n",
    "\n",
    "# # Print statistics\n",
    "print(f'Number of images: {image_count}')\n",
    "print(f'Average time interval between images: {average_interval} days')\n",
    "\n",
    "\n",
    "# Check coverage for the first image\n",
    "first_image = cloud_masked_collection.first()\n",
    "#coverage = first_image.get('coverage').getInfo()\n",
    "#print(f'Coverage of first image: {coverage * 100:.2f}%')\n",
    "\n",
    "# Visualize using geemap\n",
    "Map = geemap.Map()\n",
    "Map.addLayer(first_image, {'bands': ['B3', 'B2', 'B1'], 'min': 0, 'max': 3000}, \"First Image\")\n",
    "Map.addLayer(geometry, {}, \"ROI\")\n",
    "Map.centerObject(geometry, 12)\n",
    "Map"
   ]
  },
  {
   "cell_type": "code",
   "execution_count": 22,
   "metadata": {},
   "outputs": [
    {
     "data": {
      "text/html": [
       "\n",
       "            <style>\n",
       "                .geemap-dark {\n",
       "                    --jp-widgets-color: white;\n",
       "                    --jp-widgets-label-color: white;\n",
       "                    --jp-ui-font-color1: white;\n",
       "                    --jp-layout-color2: #454545;\n",
       "                    background-color: #383838;\n",
       "                }\n",
       "\n",
       "                .geemap-dark .jupyter-button {\n",
       "                    --jp-layout-color3: #383838;\n",
       "                }\n",
       "\n",
       "                .geemap-colab {\n",
       "                    background-color: var(--colab-primary-surface-color, white);\n",
       "                }\n",
       "\n",
       "                .geemap-colab .jupyter-button {\n",
       "                    --jp-layout-color3: var(--colab-primary-surface-color, white);\n",
       "                }\n",
       "            </style>\n",
       "            "
      ],
      "text/plain": [
       "<IPython.core.display.HTML object>"
      ]
     },
     "metadata": {},
     "output_type": "display_data"
    },
    {
     "ename": "EEException",
     "evalue": "Total request size (63341568 pixels) must be less than or equal to 26214400 pixels.",
     "output_type": "error",
     "traceback": [
      "\u001b[1;31m---------------------------------------------------------------------------\u001b[0m",
      "\u001b[1;31mHttpError\u001b[0m                                 Traceback (most recent call last)",
      "File \u001b[1;32md:\\My Documents\\Thesis\\Coastal_vision\\venv\\Lib\\site-packages\\ee\\data.py:406\u001b[0m, in \u001b[0;36m_execute_cloud_call\u001b[1;34m(call, num_retries)\u001b[0m\n\u001b[0;32m    405\u001b[0m \u001b[38;5;28;01mtry\u001b[39;00m:\n\u001b[1;32m--> 406\u001b[0m   \u001b[38;5;28;01mreturn\u001b[39;00m \u001b[43mcall\u001b[49m\u001b[38;5;241;43m.\u001b[39;49m\u001b[43mexecute\u001b[49m\u001b[43m(\u001b[49m\u001b[43mnum_retries\u001b[49m\u001b[38;5;241;43m=\u001b[39;49m\u001b[43mnum_retries\u001b[49m\u001b[43m)\u001b[49m\n\u001b[0;32m    407\u001b[0m \u001b[38;5;28;01mexcept\u001b[39;00m googleapiclient\u001b[38;5;241m.\u001b[39merrors\u001b[38;5;241m.\u001b[39mHttpError \u001b[38;5;28;01mas\u001b[39;00m e:\n",
      "File \u001b[1;32md:\\My Documents\\Thesis\\Coastal_vision\\venv\\Lib\\site-packages\\googleapiclient\\_helpers.py:130\u001b[0m, in \u001b[0;36mpositional.<locals>.positional_decorator.<locals>.positional_wrapper\u001b[1;34m(*args, **kwargs)\u001b[0m\n\u001b[0;32m    129\u001b[0m         logger\u001b[38;5;241m.\u001b[39mwarning(message)\n\u001b[1;32m--> 130\u001b[0m \u001b[38;5;28;01mreturn\u001b[39;00m \u001b[43mwrapped\u001b[49m\u001b[43m(\u001b[49m\u001b[38;5;241;43m*\u001b[39;49m\u001b[43margs\u001b[49m\u001b[43m,\u001b[49m\u001b[43m \u001b[49m\u001b[38;5;241;43m*\u001b[39;49m\u001b[38;5;241;43m*\u001b[39;49m\u001b[43mkwargs\u001b[49m\u001b[43m)\u001b[49m\n",
      "File \u001b[1;32md:\\My Documents\\Thesis\\Coastal_vision\\venv\\Lib\\site-packages\\googleapiclient\\http.py:938\u001b[0m, in \u001b[0;36mHttpRequest.execute\u001b[1;34m(self, http, num_retries)\u001b[0m\n\u001b[0;32m    937\u001b[0m \u001b[38;5;28;01mif\u001b[39;00m resp\u001b[38;5;241m.\u001b[39mstatus \u001b[38;5;241m>\u001b[39m\u001b[38;5;241m=\u001b[39m \u001b[38;5;241m300\u001b[39m:\n\u001b[1;32m--> 938\u001b[0m     \u001b[38;5;28;01mraise\u001b[39;00m HttpError(resp, content, uri\u001b[38;5;241m=\u001b[39m\u001b[38;5;28mself\u001b[39m\u001b[38;5;241m.\u001b[39muri)\n\u001b[0;32m    939\u001b[0m \u001b[38;5;28;01mreturn\u001b[39;00m \u001b[38;5;28mself\u001b[39m\u001b[38;5;241m.\u001b[39mpostproc(resp, content)\n",
      "\u001b[1;31mHttpError\u001b[0m: <HttpError 400 when requesting https://earthengine.googleapis.com/v1/projects/ee-sand-engine/videoThumbnails?fields=name&alt=json returned \"Total request size (63341568 pixels) must be less than or equal to 26214400 pixels.\". Details: \"Total request size (63341568 pixels) must be less than or equal to 26214400 pixels.\">",
      "\nDuring handling of the above exception, another exception occurred:\n",
      "\u001b[1;31mEEException\u001b[0m                               Traceback (most recent call last)",
      "Cell \u001b[1;32mIn[22], line 59\u001b[0m\n\u001b[0;32m     52\u001b[0m vis_params \u001b[38;5;241m=\u001b[39m {\n\u001b[0;32m     53\u001b[0m     \u001b[38;5;124m'\u001b[39m\u001b[38;5;124mbands\u001b[39m\u001b[38;5;124m'\u001b[39m: [\u001b[38;5;124m'\u001b[39m\u001b[38;5;124mB3\u001b[39m\u001b[38;5;124m'\u001b[39m, \u001b[38;5;124m'\u001b[39m\u001b[38;5;124mB2\u001b[39m\u001b[38;5;124m'\u001b[39m, \u001b[38;5;124m'\u001b[39m\u001b[38;5;124mB1\u001b[39m\u001b[38;5;124m'\u001b[39m],\n\u001b[0;32m     54\u001b[0m     \u001b[38;5;124m'\u001b[39m\u001b[38;5;124mmin\u001b[39m\u001b[38;5;124m'\u001b[39m: \u001b[38;5;241m0\u001b[39m,\n\u001b[0;32m     55\u001b[0m     \u001b[38;5;124m'\u001b[39m\u001b[38;5;124mmax\u001b[39m\u001b[38;5;124m'\u001b[39m: \u001b[38;5;241m3000\u001b[39m\n\u001b[0;32m     56\u001b[0m }\n\u001b[0;32m     58\u001b[0m \u001b[38;5;66;03m# Create the video\u001b[39;00m\n\u001b[1;32m---> 59\u001b[0m video_player \u001b[38;5;241m=\u001b[39m \u001b[43mcreate_collection_video\u001b[49m\u001b[43m(\u001b[49m\n\u001b[0;32m     60\u001b[0m \u001b[43m    \u001b[49m\u001b[43mcollection\u001b[49m\u001b[38;5;241;43m=\u001b[39;49m\u001b[43mcollection\u001b[49m\u001b[43m,\u001b[49m\n\u001b[0;32m     61\u001b[0m \u001b[43m    \u001b[49m\u001b[43mvis_params\u001b[49m\u001b[38;5;241;43m=\u001b[39;49m\u001b[43mvis_params\u001b[49m\u001b[43m,\u001b[49m\n\u001b[0;32m     62\u001b[0m \u001b[43m    \u001b[49m\u001b[43mgeometry\u001b[49m\u001b[38;5;241;43m=\u001b[39;49m\u001b[43mgeometry\u001b[49m\u001b[43m,\u001b[49m\n\u001b[0;32m     63\u001b[0m \u001b[43m    \u001b[49m\u001b[43mfps\u001b[49m\u001b[38;5;241;43m=\u001b[39;49m\u001b[38;5;241;43m3\u001b[39;49m\u001b[43m  \u001b[49m\u001b[38;5;66;43;03m# Adjust frames per second as needed\u001b[39;49;00m\n\u001b[0;32m     64\u001b[0m \u001b[43m)\u001b[49m\n\u001b[0;32m     66\u001b[0m \u001b[38;5;66;03m# Display the video\u001b[39;00m\n\u001b[0;32m     67\u001b[0m display(video_player)\n",
      "Cell \u001b[1;32mIn[22], line 36\u001b[0m, in \u001b[0;36mcreate_collection_video\u001b[1;34m(collection, vis_params, geometry, fps)\u001b[0m\n\u001b[0;32m     27\u001b[0m video_args \u001b[38;5;241m=\u001b[39m {\n\u001b[0;32m     28\u001b[0m     \u001b[38;5;124m'\u001b[39m\u001b[38;5;124mdimensions\u001b[39m\u001b[38;5;124m'\u001b[39m: \u001b[38;5;241m768\u001b[39m,  \u001b[38;5;66;03m# Max dimension in pixels\u001b[39;00m\n\u001b[0;32m     29\u001b[0m     \u001b[38;5;124m'\u001b[39m\u001b[38;5;124mregion\u001b[39m\u001b[38;5;124m'\u001b[39m: geometry,\n\u001b[1;32m   (...)\u001b[0m\n\u001b[0;32m     32\u001b[0m     \u001b[38;5;124m'\u001b[39m\u001b[38;5;124mformat\u001b[39m\u001b[38;5;124m'\u001b[39m: \u001b[38;5;124m'\u001b[39m\u001b[38;5;124mgif\u001b[39m\u001b[38;5;124m'\u001b[39m\n\u001b[0;32m     33\u001b[0m }\n\u001b[0;32m     35\u001b[0m \u001b[38;5;66;03m# Generate video URL\u001b[39;00m\n\u001b[1;32m---> 36\u001b[0m video_url \u001b[38;5;241m=\u001b[39m \u001b[43mcollection\u001b[49m\u001b[38;5;241;43m.\u001b[39;49m\u001b[43mmap\u001b[49m\u001b[43m(\u001b[49m\u001b[38;5;28;43;01mlambda\u001b[39;49;00m\u001b[43m \u001b[49m\u001b[43mimg\u001b[49m\u001b[43m:\u001b[49m\u001b[43m \u001b[49m\u001b[43mimg\u001b[49m\u001b[38;5;241;43m.\u001b[39;49m\u001b[43mvisualize\u001b[49m\u001b[43m(\u001b[49m\u001b[38;5;241;43m*\u001b[39;49m\u001b[38;5;241;43m*\u001b[39;49m\u001b[43mvis_params\u001b[49m\u001b[43m)\u001b[49m\u001b[43m)\u001b[49m\u001b[38;5;241;43m.\u001b[39;49m\u001b[43mgetVideoThumbURL\u001b[49m\u001b[43m(\u001b[49m\u001b[43mvideo_args\u001b[49m\u001b[43m)\u001b[49m\n\u001b[0;32m     38\u001b[0m \u001b[38;5;28mprint\u001b[39m(\u001b[38;5;124mf\u001b[39m\u001b[38;5;124m'\u001b[39m\u001b[38;5;124mVideo URL: \u001b[39m\u001b[38;5;132;01m{\u001b[39;00mvideo_url\u001b[38;5;132;01m}\u001b[39;00m\u001b[38;5;124m'\u001b[39m)\n\u001b[0;32m     39\u001b[0m \u001b[38;5;66;03m# Create video player widget\u001b[39;00m\n",
      "File \u001b[1;32md:\\My Documents\\Thesis\\Coastal_vision\\venv\\Lib\\site-packages\\ee\\imagecollection.py:222\u001b[0m, in \u001b[0;36mImageCollection.getVideoThumbURL\u001b[1;34m(self, params)\u001b[0m\n\u001b[0;32m    191\u001b[0m \u001b[38;5;28;01mdef\u001b[39;00m \u001b[38;5;21mgetVideoThumbURL\u001b[39m(\u001b[38;5;28mself\u001b[39m, params: Optional[Dict[\u001b[38;5;28mstr\u001b[39m, Any]] \u001b[38;5;241m=\u001b[39m \u001b[38;5;28;01mNone\u001b[39;00m) \u001b[38;5;241m-\u001b[39m\u001b[38;5;241m>\u001b[39m \u001b[38;5;28mstr\u001b[39m:\n\u001b[0;32m    192\u001b[0m \u001b[38;5;250m  \u001b[39m\u001b[38;5;124;03m\"\"\"Get the URL for an animated video thumbnail of the given collection.\u001b[39;00m\n\u001b[0;32m    193\u001b[0m \n\u001b[0;32m    194\u001b[0m \u001b[38;5;124;03m  Note: Videos can only be created when the image visualization\u001b[39;00m\n\u001b[1;32m   (...)\u001b[0m\n\u001b[0;32m    220\u001b[0m \u001b[38;5;124;03m    EEException: If the region parameter is not an array or GeoJSON object.\u001b[39;00m\n\u001b[0;32m    221\u001b[0m \u001b[38;5;124;03m  \"\"\"\u001b[39;00m\n\u001b[1;32m--> 222\u001b[0m   \u001b[38;5;28;01mreturn\u001b[39;00m \u001b[38;5;28;43mself\u001b[39;49m\u001b[38;5;241;43m.\u001b[39;49m\u001b[43m_getThumbURL\u001b[49m\u001b[43m(\u001b[49m\u001b[43m[\u001b[49m\u001b[38;5;124;43m'\u001b[39;49m\u001b[38;5;124;43mgif\u001b[39;49m\u001b[38;5;124;43m'\u001b[39;49m\u001b[43m]\u001b[49m\u001b[43m,\u001b[49m\u001b[43m \u001b[49m\u001b[43mparams\u001b[49m\u001b[43m,\u001b[49m\u001b[43m \u001b[49m\u001b[43mthumbType\u001b[49m\u001b[38;5;241;43m=\u001b[39;49m\u001b[38;5;124;43m'\u001b[39;49m\u001b[38;5;124;43mvideo\u001b[39;49m\u001b[38;5;124;43m'\u001b[39;49m\u001b[43m)\u001b[49m\n",
      "File \u001b[1;32md:\\My Documents\\Thesis\\Coastal_vision\\venv\\Lib\\site-packages\\ee\\imagecollection.py:312\u001b[0m, in \u001b[0;36mImageCollection._getThumbURL\u001b[1;34m(self, valid_formats, params, thumbType)\u001b[0m\n\u001b[0;32m    307\u001b[0m \u001b[38;5;28;01mif\u001b[39;00m thumbType \u001b[38;5;129;01mnot\u001b[39;00m \u001b[38;5;129;01min\u001b[39;00m [\u001b[38;5;124m'\u001b[39m\u001b[38;5;124mvideo\u001b[39m\u001b[38;5;124m'\u001b[39m, \u001b[38;5;124m'\u001b[39m\u001b[38;5;124mfilmstrip\u001b[39m\u001b[38;5;124m'\u001b[39m]:\n\u001b[0;32m    308\u001b[0m   \u001b[38;5;28;01mraise\u001b[39;00m ee_exception\u001b[38;5;241m.\u001b[39mEEException(\n\u001b[0;32m    309\u001b[0m       \u001b[38;5;124m'\u001b[39m\u001b[38;5;124mInvalid thumbType provided to _getThumbURL only \u001b[39m\u001b[38;5;130;01m\\'\u001b[39;00m\u001b[38;5;124mvideo\u001b[39m\u001b[38;5;130;01m\\'\u001b[39;00m\u001b[38;5;124m or \u001b[39m\u001b[38;5;124m'\u001b[39m\n\u001b[0;32m    310\u001b[0m       \u001b[38;5;124m'\u001b[39m\u001b[38;5;130;01m\\'\u001b[39;00m\u001b[38;5;124mfilmstrip\u001b[39m\u001b[38;5;130;01m\\'\u001b[39;00m\u001b[38;5;124m is supported.\u001b[39m\u001b[38;5;124m'\u001b[39m)\n\u001b[1;32m--> 312\u001b[0m \u001b[38;5;28;01mreturn\u001b[39;00m data\u001b[38;5;241m.\u001b[39mmakeThumbUrl(\u001b[43mdata\u001b[49m\u001b[38;5;241;43m.\u001b[39;49m\u001b[43mgetThumbId\u001b[49m\u001b[43m(\u001b[49m\u001b[43mrequest\u001b[49m\u001b[43m,\u001b[49m\u001b[43m \u001b[49m\u001b[43mthumbType\u001b[49m\u001b[38;5;241;43m=\u001b[39;49m\u001b[43mthumbType\u001b[49m\u001b[43m)\u001b[49m)\n",
      "File \u001b[1;32md:\\My Documents\\Thesis\\Coastal_vision\\venv\\Lib\\site-packages\\ee\\data.py:1228\u001b[0m, in \u001b[0;36mgetThumbId\u001b[1;34m(params, thumbType)\u001b[0m\n\u001b[0;32m   1224\u001b[0m   \u001b[38;5;28;01mif\u001b[39;00m \u001b[38;5;124m'\u001b[39m\u001b[38;5;124mframesPerSecond\u001b[39m\u001b[38;5;124m'\u001b[39m \u001b[38;5;129;01min\u001b[39;00m params:\n\u001b[0;32m   1225\u001b[0m     request[\u001b[38;5;124m'\u001b[39m\u001b[38;5;124mvideoOptions\u001b[39m\u001b[38;5;124m'\u001b[39m] \u001b[38;5;241m=\u001b[39m {\n\u001b[0;32m   1226\u001b[0m         \u001b[38;5;124m'\u001b[39m\u001b[38;5;124mframesPerSecond\u001b[39m\u001b[38;5;124m'\u001b[39m: params\u001b[38;5;241m.\u001b[39mget(\u001b[38;5;124m'\u001b[39m\u001b[38;5;124mframesPerSecond\u001b[39m\u001b[38;5;124m'\u001b[39m)\n\u001b[0;32m   1227\u001b[0m     }\n\u001b[1;32m-> 1228\u001b[0m   result \u001b[38;5;241m=\u001b[39m \u001b[43m_execute_cloud_call\u001b[49m\u001b[43m(\u001b[49m\n\u001b[0;32m   1229\u001b[0m \u001b[43m      \u001b[49m\u001b[43m_get_cloud_projects\u001b[49m\u001b[43m(\u001b[49m\u001b[43m)\u001b[49m\n\u001b[0;32m   1230\u001b[0m \u001b[43m      \u001b[49m\u001b[38;5;241;43m.\u001b[39;49m\u001b[43mvideoThumbnails\u001b[49m\u001b[43m(\u001b[49m\u001b[43m)\u001b[49m\n\u001b[0;32m   1231\u001b[0m \u001b[43m      \u001b[49m\u001b[38;5;241;43m.\u001b[39;49m\u001b[43mcreate\u001b[49m\u001b[43m(\u001b[49m\u001b[43mparent\u001b[49m\u001b[38;5;241;43m=\u001b[39;49m\u001b[43m_get_projects_path\u001b[49m\u001b[43m(\u001b[49m\u001b[43m)\u001b[49m\u001b[43m,\u001b[49m\u001b[43m \u001b[49m\u001b[38;5;241;43m*\u001b[39;49m\u001b[38;5;241;43m*\u001b[39;49m\u001b[43mqueryParams\u001b[49m\u001b[43m)\u001b[49m\n\u001b[0;32m   1232\u001b[0m \u001b[43m  \u001b[49m\u001b[43m)\u001b[49m\n\u001b[0;32m   1233\u001b[0m \u001b[38;5;28;01melif\u001b[39;00m thumbType \u001b[38;5;241m==\u001b[39m \u001b[38;5;124m'\u001b[39m\u001b[38;5;124mfilmstrip\u001b[39m\u001b[38;5;124m'\u001b[39m:\n\u001b[0;32m   1234\u001b[0m   \u001b[38;5;66;03m# Currently only 'VERTICAL' thumbnails are supported.\u001b[39;00m\n\u001b[0;32m   1235\u001b[0m   request[\u001b[38;5;124m'\u001b[39m\u001b[38;5;124morientation\u001b[39m\u001b[38;5;124m'\u001b[39m] \u001b[38;5;241m=\u001b[39m \u001b[38;5;124m'\u001b[39m\u001b[38;5;124mVERTICAL\u001b[39m\u001b[38;5;124m'\u001b[39m\n",
      "File \u001b[1;32md:\\My Documents\\Thesis\\Coastal_vision\\venv\\Lib\\site-packages\\ee\\data.py:408\u001b[0m, in \u001b[0;36m_execute_cloud_call\u001b[1;34m(call, num_retries)\u001b[0m\n\u001b[0;32m    406\u001b[0m   \u001b[38;5;28;01mreturn\u001b[39;00m call\u001b[38;5;241m.\u001b[39mexecute(num_retries\u001b[38;5;241m=\u001b[39mnum_retries)\n\u001b[0;32m    407\u001b[0m \u001b[38;5;28;01mexcept\u001b[39;00m googleapiclient\u001b[38;5;241m.\u001b[39merrors\u001b[38;5;241m.\u001b[39mHttpError \u001b[38;5;28;01mas\u001b[39;00m e:\n\u001b[1;32m--> 408\u001b[0m   \u001b[38;5;28;01mraise\u001b[39;00m _translate_cloud_exception(e)\n",
      "\u001b[1;31mEEException\u001b[0m: Total request size (63341568 pixels) must be less than or equal to 26214400 pixels."
     ]
    }
   ],
   "source": [
    "import ee\n",
    "import geemap\n",
    "import ipywidgets as widgets\n",
    "from IPython.display import HTML\n",
    "\n",
    "def create_collection_video(collection, vis_params, geometry, fps=3):\n",
    "    \"\"\"\n",
    "    Create a video visualization of an image collection\n",
    "    \n",
    "    Parameters:\n",
    "    -----------\n",
    "    collection : ee.ImageCollection\n",
    "        The image collection to visualize\n",
    "    vis_params : dict\n",
    "        Visualization parameters for the imagery\n",
    "    geometry : ee.Geometry\n",
    "        Region of interest for the video\n",
    "    fps : int, optional\n",
    "        Frames per second for the video (default: 2)\n",
    "    \n",
    "    Returns:\n",
    "    --------\n",
    "    HTML\n",
    "        HTML widget containing the video player\n",
    "    \"\"\"\n",
    "    # Create a video thumbnail\n",
    "    video_args = {\n",
    "        'dimensions': 768,  # Max dimension in pixels\n",
    "        'region': geometry,\n",
    "        'framesPerSecond': fps,\n",
    "        'crs': 'EPSG:3857',\n",
    "        'format': 'gif'\n",
    "    }\n",
    "    \n",
    "    # Generate video URL\n",
    "    video_url = collection.map(lambda img: img.visualize(**vis_params)).getVideoThumbURL(video_args)\n",
    "    \n",
    "    print(f'Video URL: {video_url}')\n",
    "    # Create video player widget\n",
    "    video_widget = HTML(\n",
    "        f\"\"\"\n",
    "        <video width=\"100%\" controls>\n",
    "            <source src=\"{video_url}\" type=\"video/gif\">\n",
    "            Your browser does not support the video tag.\n",
    "        </video>\n",
    "        \"\"\"\n",
    "    )\n",
    "    \n",
    "    return video_widget\n",
    "\n",
    "# Define visualization parameters\n",
    "vis_params = {\n",
    "    'bands': ['B3', 'B2', 'B1'],\n",
    "    'min': 0,\n",
    "    'max': 3000\n",
    "}\n",
    "\n",
    "# Create the video\n",
    "video_player = create_collection_video(\n",
    "    collection=collection,\n",
    "    vis_params=vis_params,\n",
    "    geometry=geometry,\n",
    "    fps=3  # Adjust frames per second as needed\n",
    ")\n",
    "\n",
    "# Display the video\n",
    "display(video_player)"
   ]
  },
  {
   "cell_type": "code",
   "execution_count": null,
   "metadata": {},
   "outputs": [],
   "source": []
  },
  {
   "cell_type": "code",
   "execution_count": null,
   "metadata": {},
   "outputs": [],
   "source": []
  },
  {
   "cell_type": "code",
   "execution_count": null,
   "metadata": {},
   "outputs": [],
   "source": []
  }
 ],
 "metadata": {
  "kernelspec": {
   "display_name": "venv",
   "language": "python",
   "name": "python3"
  },
  "language_info": {
   "codemirror_mode": {
    "name": "ipython",
    "version": 3
   },
   "file_extension": ".py",
   "mimetype": "text/x-python",
   "name": "python",
   "nbconvert_exporter": "python",
   "pygments_lexer": "ipython3",
   "version": "3.11.9"
  }
 },
 "nbformat": 4,
 "nbformat_minor": 2
}
