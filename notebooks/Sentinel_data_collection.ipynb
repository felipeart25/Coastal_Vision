{
 "cells": [
  {
   "cell_type": "code",
   "execution_count": 1,
   "metadata": {},
   "outputs": [],
   "source": [
    "#Connect to GGE API\n",
    "\n",
    "import ee\n",
    "import geemap.core as geemap\n",
    "import datetime\n",
    "import os\n",
    "import pandas as pd\n",
    "\n",
    "ee.Initialize(project='ee-sand-engine')"
   ]
  },
  {
   "cell_type": "code",
   "execution_count": 2,
   "metadata": {},
   "outputs": [
    {
     "data": {
      "text/html": [
       "\n",
       "            <style>\n",
       "                .geemap-dark {\n",
       "                    --jp-widgets-color: white;\n",
       "                    --jp-widgets-label-color: white;\n",
       "                    --jp-ui-font-color1: white;\n",
       "                    --jp-layout-color2: #454545;\n",
       "                    background-color: #383838;\n",
       "                }\n",
       "\n",
       "                .geemap-dark .jupyter-button {\n",
       "                    --jp-layout-color3: #383838;\n",
       "                }\n",
       "\n",
       "                .geemap-colab {\n",
       "                    background-color: var(--colab-primary-surface-color, white);\n",
       "                }\n",
       "\n",
       "                .geemap-colab .jupyter-button {\n",
       "                    --jp-layout-color3: var(--colab-primary-surface-color, white);\n",
       "                }\n",
       "            </style>\n",
       "            "
      ],
      "text/plain": [
       "<IPython.core.display.HTML object>"
      ]
     },
     "metadata": {},
     "output_type": "display_data"
    }
   ],
   "source": [
    "start_date = '2015-01-01'\n",
    "end_date = '2024-12-31'\n",
    "\n",
    "geometry = ee.Geometry.Polygon([[\n",
    "    [4.161971, 52.026261],\n",
    "    [4.229327, 52.075821],\n",
    "    [4.198982, 52.091474],\n",
    "    [4.131249, 52.041400],\n",
    "    [4.161971, 52.026261]\n",
    "]])\n",
    "\n",
    "collection_name = \"COPERNICUS/S2_SR_HARMONIZED\"\n",
    "bands = ['B3', 'B2', 'B1']\n",
    "\n",
    "# Define cloud and cover filter\n",
    "cloud_cover_max = 40  # Maximum cloud cover percentage\n",
    "coverage_threshold = 0.9  # Minimum coverage as a fraction (e.g., 0.8 = 80%)\n"
   ]
  },
  {
   "cell_type": "code",
   "execution_count": 3,
   "metadata": {},
   "outputs": [
    {
     "data": {
      "text/html": [
       "\n",
       "            <style>\n",
       "                .geemap-dark {\n",
       "                    --jp-widgets-color: white;\n",
       "                    --jp-widgets-label-color: white;\n",
       "                    --jp-ui-font-color1: white;\n",
       "                    --jp-layout-color2: #454545;\n",
       "                    background-color: #383838;\n",
       "                }\n",
       "\n",
       "                .geemap-dark .jupyter-button {\n",
       "                    --jp-layout-color3: #383838;\n",
       "                }\n",
       "\n",
       "                .geemap-colab {\n",
       "                    background-color: var(--colab-primary-surface-color, white);\n",
       "                }\n",
       "\n",
       "                .geemap-colab .jupyter-button {\n",
       "                    --jp-layout-color3: var(--colab-primary-surface-color, white);\n",
       "                }\n",
       "            </style>\n",
       "            "
      ],
      "text/plain": [
       "<IPython.core.display.HTML object>"
      ]
     },
     "metadata": {},
     "output_type": "display_data"
    },
    {
     "name": "stdout",
     "output_type": "stream",
     "text": [
      "Number of images: 149\n",
      "Average time interval between images: 17.972972972972972 days\n",
      "Coverage of first image: 100.32%\n"
     ]
    },
    {
     "data": {
      "application/vnd.jupyter.widget-view+json": {
       "model_id": "685363f9a5484beeb4f46781b8003acf",
       "version_major": 2,
       "version_minor": 0
      },
      "text/plain": [
       "Map(center=[52.05877845186358, 4.180376309936336], controls=(ZoomControl(options=['position', 'zoom_in_text', …"
      ]
     },
     "execution_count": 3,
     "metadata": {},
     "output_type": "execute_result"
    }
   ],
   "source": [
    "# Calculate the ROI area in square meters\n",
    "roi_area = geometry.area().getInfo()\n",
    "# Function to calculate coverage\n",
    "def calculate_coverage(image):\n",
    "    # Create a binary mask of valid pixels (1 where there's data, 0 where there's no data)\n",
    "    valid_pixels = image.select(bands[0]).mask()\n",
    "    \n",
    "    # Calculate the area of valid pixels\n",
    "    valid_area = valid_pixels.reduceRegion(\n",
    "        reducer=ee.Reducer.sum(),\n",
    "        geometry=geometry,\n",
    "        scale=10,  # Sentinel-2 resolution\n",
    "        maxPixels=1e13\n",
    "    ).get(bands[0])\n",
    "    \n",
    "    # Calculate coverage as valid area divided by total area\n",
    "    coverage = ee.Number(valid_area).multiply(100).divide(roi_area)\n",
    "    return image.set('coverage', coverage)\n",
    "\n",
    "collection = (ee.ImageCollection(collection_name)\n",
    "              .filterDate(start_date, end_date)\n",
    "              .filterBounds(geometry)\n",
    "              .filterMetadata('CLOUDY_PIXEL_PERCENTAGE', 'less_than', cloud_cover_max)\n",
    "              .map(calculate_coverage)\n",
    "              .filter(ee.Filter.gte('coverage', coverage_threshold))\n",
    "              #.select(bands)\n",
    "              .map(lambda img: img.clip(geometry))\n",
    "              \n",
    "              )\n",
    "              \n",
    "\n",
    "# # Get statistics\n",
    "image_count = collection.size().getInfo()\n",
    "dates = collection.aggregate_array('system:time_start').getInfo()\n",
    "dates = [datetime.datetime.utcfromtimestamp(d / 1000) for d in dates]\n",
    "time_intervals = [(dates[i] - dates[i-1]).days for i in range(1, len(dates))]\n",
    "average_interval = sum(time_intervals) / len(time_intervals) if time_intervals else 0\n",
    "\n",
    "#extrac timestamps to csv\n",
    "df = pd.DataFrame(dates, columns=['date'])\n",
    "df.to_csv('dates3.csv', index=False)\n",
    "\n",
    "# # Print statistics\n",
    "print(f'Number of images: {image_count}')\n",
    "print(f'Average time interval between images: {average_interval} days')\n",
    "\n",
    "# Check coverage for the first image\n",
    "first_image = collection.first()\n",
    "coverage = first_image.get('coverage').getInfo()\n",
    "print(f'Coverage of first image: {coverage * 100:.2f}%')\n",
    "\n",
    "\n",
    "# Visualize using geemap\n",
    "Map = geemap.Map()\n",
    "Map.addLayer(first_image, {'bands': ['B3', 'B2', 'B1'], 'min': 0, 'max': 3000}, \"First Image\")\n",
    "Map.addLayer(geometry, {}, \"ROI\")\n",
    "Map.centerObject(geometry, 12)\n",
    "Map"
   ]
  },
  {
   "cell_type": "code",
   "execution_count": 11,
   "metadata": {},
   "outputs": [
    {
     "data": {
      "text/html": [
       "\n",
       "            <style>\n",
       "                .geemap-dark {\n",
       "                    --jp-widgets-color: white;\n",
       "                    --jp-widgets-label-color: white;\n",
       "                    --jp-ui-font-color1: white;\n",
       "                    --jp-layout-color2: #454545;\n",
       "                    background-color: #383838;\n",
       "                }\n",
       "\n",
       "                .geemap-dark .jupyter-button {\n",
       "                    --jp-layout-color3: #383838;\n",
       "                }\n",
       "\n",
       "                .geemap-colab {\n",
       "                    background-color: var(--colab-primary-surface-color, white);\n",
       "                }\n",
       "\n",
       "                .geemap-colab .jupyter-button {\n",
       "                    --jp-layout-color3: var(--colab-primary-surface-color, white);\n",
       "                }\n",
       "            </style>\n",
       "            "
      ],
      "text/plain": [
       "<IPython.core.display.HTML object>"
      ]
     },
     "metadata": {},
     "output_type": "display_data"
    },
    {
     "name": "stdout",
     "output_type": "stream",
     "text": [
      "\n",
      "Time Series Statistics:\n",
      "Total number of images: 149\n",
      "Time period: 2017-04 to 2024-10\n",
      "Maximum images in one month: 5\n",
      "Average images per month: 1.91\n"
     ]
    },
    {
     "data": {
      "image/png": "[encoded data removed]",
      "text/plain": [
       "<Figure size 1200x600 with 1 Axes>"
      ]
     },
     "metadata": {},
     "output_type": "display_data"
    }
   ],
   "source": [
    "import pandas as pd\n",
    "from datetime import datetime\n",
    "\n",
    "def prepare_gee_timeseries(dates):\n",
    "    \"\"\"\n",
    "    Prepare GEE collection dates for time series visualization\n",
    "    \n",
    "    Parameters:\n",
    "    dates: list of datetime objects from GEE collection\n",
    "    \n",
    "    Returns:\n",
    "    dict: Processed data ready for visualization\n",
    "    \"\"\"\n",
    "    # Convert to pandas datetime\n",
    "    df = pd.DataFrame({'date': dates})\n",
    "    \n",
    "    # Create month-year string for grouping\n",
    "    df['month_year'] = df['date'].dt.strftime('%Y-%m')\n",
    "    \n",
    "    # Ensure all months are included (even those with 0 images)\n",
    "    date_range = pd.date_range(start='2015-01-01', end='2018-01-01', freq='MS')\n",
    "    all_months = pd.DataFrame({'month_year': date_range.strftime('%Y-%m')})\n",
    "    \n",
    "    # Count images per month\n",
    "    monthly_counts = df['month_year'].value_counts().reset_index()\n",
    "    monthly_counts.columns = ['month_year', 'count']\n",
    "    \n",
    "    # Merge with all months to include zeros\n",
    "    complete_counts = all_months.merge(monthly_counts, on='month_year', how='left')\n",
    "    complete_counts['count'] = complete_counts['count'].fillna(0)\n",
    "    \n",
    "    # Sort by date\n",
    "    complete_counts = complete_counts.sort_values('month_year')\n",
    "    \n",
    "    return {\n",
    "        'dates': complete_counts['month_year'].tolist(),\n",
    "        'counts': complete_counts['count'].tolist()\n",
    "    }\n",
    "\n",
    "# Process your GEE dates\n",
    "timeseries_data = prepare_gee_timeseries(dates)\n",
    "\n",
    "import pandas as pd\n",
    "import matplotlib.pyplot as plt\n",
    "import seaborn as sns\n",
    "from datetime import datetime\n",
    "\n",
    "def plot_image_timeseries(dates):\n",
    "    \"\"\"\n",
    "    Create a time series plot of satellite image acquisitions\n",
    "    \n",
    "    Parameters:\n",
    "    dates: list of datetime objects from GEE collection\n",
    "    \"\"\"\n",
    "    # Convert dates to pandas DataFrame\n",
    "    df = pd.DataFrame({'date': dates})\n",
    "    \n",
    "    # Create month-year for grouping\n",
    "    df['month_year'] = pd.to_datetime(df['date']).dt.to_period('M')\n",
    "    \n",
    "    # Count images per month\n",
    "    monthly_counts = df.groupby('month_year').size().reset_index(name='count')\n",
    "    monthly_counts['month_year'] = monthly_counts['month_year'].astype(str)\n",
    "    \n",
    "    # Create the plot\n",
    "    plt.figure(figsize=(12, 6))\n",
    "    sns.set_style(\"whitegrid\")\n",
    "    \n",
    "    # Plot the line\n",
    "    plt.plot(range(len(monthly_counts)), monthly_counts['count'], \n",
    "             marker='o', linestyle='-', linewidth=2, markersize=6,\n",
    "             color='#2563eb')\n",
    "    \n",
    "    # Customize the plot\n",
    "    plt.title('Temporal Distribution of Sentinel-2 Images (2015-2018)', \n",
    "             fontsize=12, pad=20)\n",
    "    plt.xlabel('Date', fontsize=10)\n",
    "    plt.ylabel('Number of Images', fontsize=10)\n",
    "    \n",
    "    # Set x-axis ticks and labels\n",
    "    plt.xticks(range(len(monthly_counts)), \n",
    "               monthly_counts['month_year'],\n",
    "               rotation=45,\n",
    "               ha='right')\n",
    "    \n",
    "    # Add grid\n",
    "    plt.grid(True, alpha=0.3)\n",
    "    \n",
    "    # Adjust layout\n",
    "    plt.tight_layout()\n",
    "    \n",
    "    # Print statistics\n",
    "    print(\"\\nTime Series Statistics:\")\n",
    "    print(f\"Total number of images: {len(dates)}\")\n",
    "    print(f\"Time period: {min(dates).strftime('%Y-%m')} to {max(dates).strftime('%Y-%m')}\")\n",
    "    print(f\"Maximum images in one month: {monthly_counts['count'].max()}\")\n",
    "    print(f\"Average images per month: {monthly_counts['count'].mean():.2f}\")\n",
    "    \n",
    "    return plt\n",
    "\n",
    "# Create and show the plot\n",
    "plot = plot_image_timeseries(dates)\n",
    "plt.show()"
   ]
  },
  {
   "cell_type": "code",
   "execution_count": 5,
   "metadata": {},
   "outputs": [
    {
     "data": {
      "text/html": [
       "\n",
       "            <style>\n",
       "                .geemap-dark {\n",
       "                    --jp-widgets-color: white;\n",
       "                    --jp-widgets-label-color: white;\n",
       "                    --jp-ui-font-color1: white;\n",
       "                    --jp-layout-color2: #454545;\n",
       "                    background-color: #383838;\n",
       "                }\n",
       "\n",
       "                .geemap-dark .jupyter-button {\n",
       "                    --jp-layout-color3: #383838;\n",
       "                }\n",
       "\n",
       "                .geemap-colab {\n",
       "                    background-color: var(--colab-primary-surface-color, white);\n",
       "                }\n",
       "\n",
       "                .geemap-colab .jupyter-button {\n",
       "                    --jp-layout-color3: var(--colab-primary-surface-color, white);\n",
       "                }\n",
       "            </style>\n",
       "            "
      ],
      "text/plain": [
       "<IPython.core.display.HTML object>"
      ]
     },
     "metadata": {},
     "output_type": "display_data"
    },
    {
     "name": "stdout",
     "output_type": "stream",
     "text": [
      "Number of images: 149\n",
      "Average time interval between images: 17.972972972972972 days\n"
     ]
    },
    {
     "data": {
      "application/vnd.jupyter.widget-view+json": {
       "model_id": "0b4f0a405086490c9953c2c36924cb4e",
       "version_major": 2,
       "version_minor": 0
      },
      "text/plain": [
       "Map(center=[52.05877845186358, 4.180376309936336], controls=(ZoomControl(options=['position', 'zoom_in_text', …"
      ]
     },
     "execution_count": 5,
     "metadata": {},
     "output_type": "execute_result"
    }
   ],
   "source": [
    "\n",
    "import datetime\n",
    "# Load Cloud Probability dataset\n",
    "clouds = ee.ImageCollection(\"COPERNICUS/S2_CLOUD_PROBABILITY\") \\\n",
    "    .filterBounds(geometry) \\\n",
    "    .filterDate(start_date, end_date) \\\n",
    "    .map(lambda img: img.clip(geometry))\n",
    "\n",
    "# Function to apply cloud masking\n",
    "def apply_cloud_mask(img):\n",
    "    cloud_prob = clouds.filter(ee.Filter.eq('system:index', img.get('system:index'))).first()\n",
    "    mask = cloud_prob.lt(80)  # Threshold for cloud probability (adjust as needed)\n",
    "    return img.updateMask(mask).copyProperties(img, img.propertyNames())\n",
    "\n",
    "# Apply cloud masking to Sentinel-2 collection\n",
    "cloud_masked_collection = collection.map(apply_cloud_mask)\n",
    "\n",
    "# # Get statistics\n",
    "image_count = cloud_masked_collection.size().getInfo()\n",
    "dates = cloud_masked_collection.aggregate_array('system:time_start').getInfo()\n",
    "dates = [datetime.datetime.utcfromtimestamp(d / 1000) for d in dates]\n",
    "time_intervals = [(dates[i] - dates[i-1]).days for i in range(1, len(dates))]\n",
    "average_interval = sum(time_intervals) / len(time_intervals) if time_intervals else 0\n",
    "\n",
    "# # Print statistics\n",
    "print(f'Number of images: {image_count}')\n",
    "print(f'Average time interval between images: {average_interval} days')\n",
    "\n",
    "\n",
    "# Check coverage for the first image\n",
    "first_image = cloud_masked_collection.first()\n",
    "#coverage = first_image.get('coverage').getInfo()\n",
    "#print(f'Coverage of first image: {coverage * 100:.2f}%')\n",
    "\n",
    "# Visualize using geemap\n",
    "Map = geemap.Map()\n",
    "Map.addLayer(first_image, {'bands': ['B3', 'B2', 'B1'], 'min': 0, 'max': 3000}, \"First Image\")\n",
    "Map.addLayer(geometry, {}, \"ROI\")\n",
    "Map.centerObject(geometry, 12)\n",
    "Map"
   ]
  },
  {
   "cell_type": "code",
   "execution_count": 6,
   "metadata": {},
   "outputs": [
    {
     "data": {
      "text/html": [
       "\n",
       "            <style>\n",
       "                .geemap-dark {\n",
       "                    --jp-widgets-color: white;\n",
       "                    --jp-widgets-label-color: white;\n",
       "                    --jp-ui-font-color1: white;\n",
       "                    --jp-layout-color2: #454545;\n",
       "                    background-color: #383838;\n",
       "                }\n",
       "\n",
       "                .geemap-dark .jupyter-button {\n",
       "                    --jp-layout-color3: #383838;\n",
       "                }\n",
       "\n",
       "                .geemap-colab {\n",
       "                    background-color: var(--colab-primary-surface-color, white);\n",
       "                }\n",
       "\n",
       "                .geemap-colab .jupyter-button {\n",
       "                    --jp-layout-color3: var(--colab-primary-surface-color, white);\n",
       "                }\n",
       "            </style>\n",
       "            "
      ],
      "text/plain": [
       "<IPython.core.display.HTML object>"
      ]
     },
     "metadata": {},
     "output_type": "display_data"
    },
    {
     "name": "stdout",
     "output_type": "stream",
     "text": [
      "Video URL: https://earthengine.googleapis.com/v1/projects/ee-sand-engine/videoThumbnails/a281d78946511a2f81187d748d8cd332-1ce21a529f218754af3de6964523df65:getPixels\n"
     ]
    }
   ],
   "source": [
    "import ee\n",
    "import geemap\n",
    "import ipywidgets as widgets\n",
    "from IPython.display import HTML\n",
    "\n",
    "def create_collection_video(collection, vis_params, geometry, fps=3):\n",
    "    \"\"\"\n",
    "    Create a video visualization of an image collection\n",
    "    \n",
    "    Parameters:\n",
    "    -----------\n",
    "    collection : ee.ImageCollection\n",
    "        The image collection to visualize\n",
    "    vis_params : dict\n",
    "        Visualization parameters for the imagery\n",
    "    geometry : ee.Geometry\n",
    "        Region of interest for the video\n",
    "    fps : int, optional\n",
    "        Frames per second for the video (default: 2)\n",
    "    \n",
    "    Returns:\n",
    "    --------\n",
    "    HTML\n",
    "        HTML widget containing the video player\n",
    "    \"\"\"\n",
    "    # Create a video thumbnail\n",
    "    video_args = {\n",
    "        'dimensions': 768,  # Max dimension in pixels\n",
    "        'region': geometry,\n",
    "        'framesPerSecond': fps,\n",
    "        'crs': 'EPSG:3857',\n",
    "        'format': 'gif'\n",
    "    }\n",
    "    \n",
    "    # Generate video URL\n",
    "    video_url = collection.map(lambda img: img.visualize(**vis_params)).getVideoThumbURL(video_args)\n",
    "    \n",
    "    print(f'Video URL: {video_url}')\n",
    "    # Create video player widget\n",
    "    video_widget = HTML(\n",
    "        f\"\"\"\n",
    "        <video width=\"100%\" controls>\n",
    "            <source src=\"{video_url}\" type=\"video/gif\">\n",
    "            Your browser does not support the video tag.\n",
    "        </video>\n",
    "        \"\"\"\n",
    "    )\n",
    "    \n",
    "    return video_widget\n",
    "\n",
    "# Define visualization parameters\n",
    "vis_params = {\n",
    "    'bands': ['B3', 'B2', 'B1'],\n",
    "    'min': 0,\n",
    "    'max': 3000\n",
    "}\n",
    "\n",
    "# Create the video\n",
    "video_player = create_collection_video(\n",
    "    collection=collection,\n",
    "    vis_params=vis_params,\n",
    "    geometry=geometry,\n",
    "    fps=3  # Adjust frames per second as needed\n",
    ")\n",
    "\n",
    "# Display the video\n",
    "#display(video_player)"
   ]
  },
  {
   "cell_type": "code",
   "execution_count": 6,
   "metadata": {},
   "outputs": [
    {
     "data": {
      "text/html": [
       "\n",
       "            <style>\n",
       "                .geemap-dark {\n",
       "                    --jp-widgets-color: white;\n",
       "                    --jp-widgets-label-color: white;\n",
       "                    --jp-ui-font-color1: white;\n",
       "                    --jp-layout-color2: #454545;\n",
       "                    background-color: #383838;\n",
       "                }\n",
       "\n",
       "                .geemap-dark .jupyter-button {\n",
       "                    --jp-layout-color3: #383838;\n",
       "                }\n",
       "\n",
       "                .geemap-colab {\n",
       "                    background-color: var(--colab-primary-surface-color, white);\n",
       "                }\n",
       "\n",
       "                .geemap-colab .jupyter-button {\n",
       "                    --jp-layout-color3: var(--colab-primary-surface-color, white);\n",
       "                }\n",
       "            </style>\n",
       "            "
      ],
      "text/plain": [
       "<IPython.core.display.HTML object>"
      ]
     },
     "metadata": {},
     "output_type": "display_data"
    },
    {
     "data": {
      "application/vnd.jupyter.widget-view+json": {
       "model_id": "f359d3165af0459e9ecea3de085fc731",
       "version_major": 2,
       "version_minor": 0
      },
      "text/plain": [
       "Map(center=[52.05877845186358, 4.180376309936336], controls=(ZoomControl(options=['position', 'zoom_in_text', …"
      ]
     },
     "execution_count": 6,
     "metadata": {},
     "output_type": "execute_result"
    }
   ],
   "source": [
    "# Generate NDWI algorthm\n",
    "\n",
    "def add_ndwi(image):\n",
    "    ndwi = image.normalizedDifference(['B3', 'B8'])\n",
    "    return image.addBands(ndwi.rename('NDWI'))\n",
    "def add_mndwi(image):\n",
    "    mndwi = image.normalizedDifference(['B3', 'B11'])\n",
    "    return image.addBands(mndwi.rename('MNDWI'))\n",
    "\n",
    "# Apply NDWI to the collection\n",
    "ndwi_collection = cloud_masked_collection.map(add_ndwi)\n",
    "mndwi_collection = cloud_masked_collection.map(add_mndwi)\n",
    "\n",
    "# Visualize using geemap\n",
    "Map = geemap.Map()\n",
    "Map.addLayer(first_image, {'bands': ['B3', 'B2', 'B1'], 'min': 0, 'max': 3000}, \"First Image\")\n",
    "Map.addLayer(mndwi_collection.first(), {'bands': 'MNDWI', 'min': -0.4, 'max': 1, 'palette': ['red', 'white', 'blue']}, \"First Image (MNDWI)\")\n",
    "Map.addLayer(ndwi_collection.first(), {'bands': 'NDWI', 'min': -0.4, 'max': 1, 'palette': ['red', 'white', 'blue']}, \"First Image (NDWI)\")\n",
    "Map.addLayer(geometry, {}, \"ROI\")\n",
    "Map.centerObject(geometry, 12)\n",
    "Map\n"
   ]
  },
  {
   "cell_type": "code",
   "execution_count": 7,
   "metadata": {},
   "outputs": [
    {
     "data": {
      "text/html": [
       "\n",
       "            <style>\n",
       "                .geemap-dark {\n",
       "                    --jp-widgets-color: white;\n",
       "                    --jp-widgets-label-color: white;\n",
       "                    --jp-ui-font-color1: white;\n",
       "                    --jp-layout-color2: #454545;\n",
       "                    background-color: #383838;\n",
       "                }\n",
       "\n",
       "                .geemap-dark .jupyter-button {\n",
       "                    --jp-layout-color3: #383838;\n",
       "                }\n",
       "\n",
       "                .geemap-colab {\n",
       "                    background-color: var(--colab-primary-surface-color, white);\n",
       "                }\n",
       "\n",
       "                .geemap-colab .jupyter-button {\n",
       "                    --jp-layout-color3: var(--colab-primary-surface-color, white);\n",
       "                }\n",
       "            </style>\n",
       "            "
      ],
      "text/plain": [
       "<IPython.core.display.HTML object>"
      ]
     },
     "metadata": {},
     "output_type": "display_data"
    },
    {
     "data": {
      "application/vnd.jupyter.widget-view+json": {
       "model_id": "f359d3165af0459e9ecea3de085fc731",
       "version_major": 2,
       "version_minor": 0
      },
      "text/plain": [
       "Map(bottom=2769105.0, center=[52.05489193163245, 4.192936420440675], controls=(ZoomControl(options=['position'…"
      ]
     },
     "execution_count": 7,
     "metadata": {},
     "output_type": "execute_result"
    }
   ],
   "source": [
    "# Canny Edge Detection\n",
    "\n",
    "def calculate_ndwi_canny(image):\n",
    "    ndwi = image.normalizedDifference(['B3', 'B11']).rename('NDWI')\n",
    "    edges = ee.Algorithms.CannyEdgeDetector(ndwi, threshold=0.5, sigma=1).rename('NDWI_edges')\n",
    "    return image.addBands([ndwi, edges])\n",
    "\n",
    "ndwi_canny_collection = cloud_masked_collection.map(calculate_ndwi_canny)\n",
    "\n",
    "first_ndwi_canny = ndwi_canny_collection.first()\n",
    "Map.addLayer(first_ndwi_canny.select('NDWI'), {'min': -1, 'max': 1, 'palette': ['red','white','blue']}, 'NDWI')\n",
    "Map.addLayer(first_ndwi_canny.select('NDWI_edges'), {'min': 0, 'max': 1, 'palette':['white','black']}, 'NDWI Edges')\n",
    "Map\n"
   ]
  },
  {
   "cell_type": "code",
   "execution_count": 8,
   "metadata": {},
   "outputs": [
    {
     "data": {
      "text/html": [
       "\n",
       "            <style>\n",
       "                .geemap-dark {\n",
       "                    --jp-widgets-color: white;\n",
       "                    --jp-widgets-label-color: white;\n",
       "                    --jp-ui-font-color1: white;\n",
       "                    --jp-layout-color2: #454545;\n",
       "                    background-color: #383838;\n",
       "                }\n",
       "\n",
       "                .geemap-dark .jupyter-button {\n",
       "                    --jp-layout-color3: #383838;\n",
       "                }\n",
       "\n",
       "                .geemap-colab {\n",
       "                    background-color: var(--colab-primary-surface-color, white);\n",
       "                }\n",
       "\n",
       "                .geemap-colab .jupyter-button {\n",
       "                    --jp-layout-color3: var(--colab-primary-surface-color, white);\n",
       "                }\n",
       "            </style>\n",
       "            "
      ],
      "text/plain": [
       "<IPython.core.display.HTML object>"
      ]
     },
     "metadata": {},
     "output_type": "display_data"
    },
    {
     "data": {
      "application/vnd.jupyter.widget-view+json": {
       "model_id": "f359d3165af0459e9ecea3de085fc731",
       "version_major": 2,
       "version_minor": 0
      },
      "text/plain": [
       "Map(bottom=2769105.0, center=[52.05489193163245, 4.192936420440675], controls=(ZoomControl(options=['position'…"
      ]
     },
     "execution_count": 8,
     "metadata": {},
     "output_type": "execute_result"
    }
   ],
   "source": [
    "#Create binary masks from the MNDWI (MNDWI collection)\n",
    "\n",
    "def calculate_mndwi_binary(image):\n",
    "    mndwi = image.select('MNDWI')\n",
    "    mndwi_binary = mndwi.gt(0.2)\n",
    "    return image.addBands(mndwi_binary.rename('MNDWI_binary'))\n",
    "\n",
    "mndwi_binary_collection = mndwi_collection.map(calculate_mndwi_binary)\n",
    "\n",
    "first_mndwi_binary = mndwi_binary_collection.first()\n",
    "Map.addLayer(first_mndwi_binary.select('MNDWI_binary'), {'palette': ['black', 'white']}, 'MNDWI Binary')\n",
    "Map"
   ]
  },
  {
   "cell_type": "code",
   "execution_count": 43,
   "metadata": {},
   "outputs": [
    {
     "data": {
      "text/html": [
       "\n",
       "            <style>\n",
       "                .geemap-dark {\n",
       "                    --jp-widgets-color: white;\n",
       "                    --jp-widgets-label-color: white;\n",
       "                    --jp-ui-font-color1: white;\n",
       "                    --jp-layout-color2: #454545;\n",
       "                    background-color: #383838;\n",
       "                }\n",
       "\n",
       "                .geemap-dark .jupyter-button {\n",
       "                    --jp-layout-color3: #383838;\n",
       "                }\n",
       "\n",
       "                .geemap-colab {\n",
       "                    background-color: var(--colab-primary-surface-color, white);\n",
       "                }\n",
       "\n",
       "                .geemap-colab .jupyter-button {\n",
       "                    --jp-layout-color3: var(--colab-primary-surface-color, white);\n",
       "                }\n",
       "            </style>\n",
       "            "
      ],
      "text/plain": [
       "<IPython.core.display.HTML object>"
      ]
     },
     "metadata": {},
     "output_type": "display_data"
    }
   ],
   "source": [
    "import pandas as pd\n",
    "\n",
    "def export_collection_metadata(collection):\n",
    "    info = collection.getInfo()\n",
    "    metadata = []\n",
    "    \n",
    "    for img in info['features']:\n",
    "        props = img['properties']\n",
    "        metadata.append({\n",
    "            'image_id': props['system:index'],\n",
    "            'date': props['system:time_start'],\n",
    "            'cloud_cover': props['CLOUDY_PIXEL_PERCENTAGE'],\n",
    "            'footprint': props['system:footprint']\n",
    "        })\n",
    "    \n",
    "    df = pd.DataFrame(metadata)\n",
    "    df.to_csv('../data/Satellite_collections_Raw/sentinel_metadata.csv', index=False)\n",
    "\n",
    "# Export metadata\n",
    "export_collection_metadata(collection)"
   ]
  }
 ],
 "metadata": {
  "kernelspec": {
   "display_name": "venv",
   "language": "python",
   "name": "python3"
  },
  "language_info": {
   "codemirror_mode": {
    "name": "ipython",
    "version": 3
   },
   "file_extension": ".py",
   "mimetype": "text/x-python",
   "name": "python",
   "nbconvert_exporter": "python",
   "pygments_lexer": "ipython3",
   "version": "3.11.9"
  }
 },
 "nbformat": 4,
 "nbformat_minor": 2
}
